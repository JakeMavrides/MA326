{
 "cells": [
  {
   "cell_type": "markdown",
   "metadata": {},
   "source": [
    "# Function approximation:\n",
    "- Approximating a function using data\n",
    "- Basic linear algebra: norm, dot product, matrix multiplication\n",
    "\n",
    "\n",
    "References:\n",
    "- https://numpy.org/doc/stable/reference/routines.linalg.html"
   ]
  },
  {
   "cell_type": "markdown",
   "metadata": {},
   "source": [
    "## Function approximation\n",
    "See lecture 3 notes for cubic function approximation"
   ]
  },
  {
   "cell_type": "code",
   "execution_count": null,
   "metadata": {},
   "outputs": [],
   "source": [
    "# We will simply use NumPy and matplotlib for this lecture\n",
    "import numpy as np\n",
    "from numpy import linalg as LA\n",
    "import matplotlib.pyplot as plt"
   ]
  },
  {
   "cell_type": "code",
   "execution_count": null,
   "metadata": {},
   "outputs": [],
   "source": [
    "# Store the given data\n",
    "xData=np.array([0,2,4,6])\n",
    "yData=np.array([0.1, 1, -0.75, -0.25])\n",
    "\n",
    "# Setup the matrix A\n",
    "A=np.array([[1, 0, 0, 0],\n",
    "            [1, 2, 4, 8], \n",
    "            [1, 4, 16, 64], \n",
    "            [1, 6, 36, 216]])\n",
    "\n",
    "# Set up RHS vector b\n",
    "b = yData.T"
   ]
  },
  {
   "cell_type": "code",
   "execution_count": null,
   "metadata": {},
   "outputs": [],
   "source": [
    "# Solve the linear system for coefficients in the approximation model\n",
    "a = LA.solve(A, b)\n",
    "a"
   ]
  },
  {
   "cell_type": "code",
   "execution_count": null,
   "metadata": {},
   "outputs": [],
   "source": [
    "# Set up a vector of x-values for plotting\n",
    "x=np.linspace(0.0,6.5,100)"
   ]
  },
  {
   "cell_type": "code",
   "execution_count": null,
   "metadata": {},
   "outputs": [],
   "source": [
    "# Evaluate y-values for the approximation\n",
    "fhat = a[0] + a[1]*x + a[2]*x**2 + a[3]*x**3"
   ]
  },
  {
   "cell_type": "code",
   "execution_count": null,
   "metadata": {},
   "outputs": [],
   "source": [
    "# Evaluate y-value for the true function\n",
    "f = np.sin(x)"
   ]
  },
  {
   "cell_type": "code",
   "execution_count": null,
   "metadata": {},
   "outputs": [],
   "source": [
    "# Plot the true function and its approximation\n",
    "plt.plot(x,f,'b-')\n",
    "plt.axis([0,6.5, -1.4, 1.4])\n",
    "plt.plot(x,fhat,'r-')\n",
    "plt.legend(['f(x)','fhat(x)'])\n",
    "\n",
    "# add data points to the plot\n",
    "plt.plot(xData,yData,'ko')\n",
    "plt.show()"
   ]
  },
  {
   "cell_type": "markdown",
   "metadata": {},
   "source": [
    "Determine the squared error and absolute error loss functions"
   ]
  },
  {
   "cell_type": "code",
   "execution_count": null,
   "metadata": {},
   "outputs": [],
   "source": [
    "ErrSq = (f-fhat)**2\n",
    "ErrAbs = abs(f - fhat)"
   ]
  },
  {
   "cell_type": "code",
   "execution_count": null,
   "metadata": {
    "scrolled": true
   },
   "outputs": [],
   "source": [
    "# Plot both loss functions\n",
    "plt.plot(x,ErrSq)\n",
    "plt.axis([0,6.5,0,0.6])\n",
    "plt.plot(x,ErrAbs)\n",
    "plt.legend(['ErrSq','ErrAbs'])"
   ]
  },
  {
   "cell_type": "code",
   "execution_count": null,
   "metadata": {},
   "outputs": [],
   "source": [
    "TotalErrSq = np.sum(ErrSq)\n",
    "TotalErrAbs = np.sum(ErrAbs)\n",
    "\n",
    "print(\"TotalErrSq={}, TotalErrAbs={}\".format(TotalErrSq, TotalErrAbs))"
   ]
  },
  {
   "cell_type": "code",
   "execution_count": null,
   "metadata": {},
   "outputs": [],
   "source": [
    "# This can also be achieved using the norm function\n",
    "# See the definition of norms below\n",
    "\n",
    "TotalErrSq = LA.norm(f-fhat,2)**2 \n",
    "TotalErrAbs = LA.norm(f-fhat,1)\n",
    "print(\"TotalErrSq={}, TotalErrAbs={}\".format(TotalErrSq, TotalErrAbs))"
   ]
  },
  {
   "cell_type": "markdown",
   "metadata": {},
   "source": [
    "For the rest of the semester, we will discuss many important topics in data science, all of which are built on linear algebra. Here, we review some basic concepts and show how to perform important operations in linear algebra using NumPy.\n",
    "\n",
    "A big advantage of using linear algebra when programming is that NumPy, for example, has built-in linear algebra functions that are highly optimized for speed. In general, they are much faster than for-loops. For data analysis this is important because interesting datasets are usually large."
   ]
  },
  {
   "cell_type": "markdown",
   "metadata": {},
   "source": [
    "## Norm of a vector\n",
    "\n",
    "The $p$-norm of a vector is a generalized way of measuring its magnitude. \n",
    "Suppose that $\\overrightarrow{x}=\\begin{bmatrix}\n",
    "           x_{1} \\\\\n",
    "           x_{2} \\\\\n",
    "           x_{3}\n",
    "         \\end{bmatrix}$.\n",
    "\n",
    "Then the $p$-norm of $\\overrightarrow{x}$ is given by $\\|\\overrightarrow{x}\\|_p = \\sqrt[p]{x_1^p+x_2^p+x_3^p}$.\n",
    "\n",
    "- When $p=1$, this is simply the sum of the elements of $\\overrightarrow{x}$. \n",
    "- When $p=2$, this is the Euclidean magnitude of the vector. For example, $\\|\\begin{bmatrix}\n",
    "           1,\n",
    "           2,\n",
    "           3\n",
    "         \\end{bmatrix}^T\\|_2 = \\sqrt{14}$."
   ]
  },
  {
   "cell_type": "code",
   "execution_count": null,
   "metadata": {},
   "outputs": [],
   "source": [
    "x=np.array([1,2,3])\n",
    "LA.norm(x,1)"
   ]
  },
  {
   "cell_type": "markdown",
   "metadata": {},
   "source": [
    "## Dot product\n",
    "The dot product of two vectors $\\overrightarrow{x}$ and $\\overrightarrow{y}$ is defined as $\\overrightarrow{x}\\cdot \\overrightarrow{y} = \\begin{bmatrix}\n",
    "           x_{1} \\\\\n",
    "           x_{2} \\\\\n",
    "           x_{3}\n",
    "         \\end{bmatrix}\\cdot\n",
    "         \\begin{bmatrix}\n",
    "           y_{1} \\\\\n",
    "           y_{2} \\\\\n",
    "           y_{3}\n",
    "         \\end{bmatrix}=x_1y_1+x_2y_2+x_3y_3$. \n",
    "\n",
    "For example, $\\begin{bmatrix}\n",
    "           1 \\\\\n",
    "           2 \\\\\n",
    "           3\n",
    "         \\end{bmatrix}\\cdot\n",
    "         \\begin{bmatrix}\n",
    "           3 \\\\\n",
    "           4 \\\\\n",
    "           3\n",
    "         \\end{bmatrix} = 20$"
   ]
  },
  {
   "cell_type": "code",
   "execution_count": null,
   "metadata": {},
   "outputs": [],
   "source": [
    "x=np.array([1,2,3]) # 1-D numpy array\n",
    "y=np.array([3,4,3]) # 1-D numpy array\n",
    "np.dot(x,y)"
   ]
  },
  {
   "cell_type": "code",
   "execution_count": null,
   "metadata": {},
   "outputs": [],
   "source": [
    "x=np.array([1,2,3]).reshape((3, 1)) # 2D\n",
    "y=np.array([1,2,3]).reshape((1, 3)) # 2D\n",
    "np.dot(x,y) # matrix multiplication"
   ]
  },
  {
   "cell_type": "code",
   "execution_count": null,
   "metadata": {},
   "outputs": [],
   "source": [
    "x=np.array([1,2,3]) # 1-D numpy array\n",
    "y=np.array([3,4,3]) # 1-D numpy array\n",
    "x.dot(y)"
   ]
  },
  {
   "cell_type": "markdown",
   "metadata": {},
   "source": [
    "### Application: angle between two vectors\n",
    "The angle between two vectors can be computed using dot products and norms. The angle $\\theta$ between two vectors $\\overrightarrow{x}$ and $\\overrightarrow{y}$ is computed as $$\\cos(\\theta) = \\frac{\\overrightarrow{x}\\cdot \\overrightarrow{y}}{\\|\\overrightarrow{x}\\|_2\\cdot \\|\\overrightarrow{y}\\|_2}.$$ \n",
    "\n",
    "For example, the cosine of the angle between vectors $\\begin{bmatrix}\n",
    "           1 \\\\\n",
    "           2 \\\\\n",
    "           3\n",
    "         \\end{bmatrix}$\n",
    "         and\n",
    "         $\n",
    "         \\begin{bmatrix}\n",
    "           3 \\\\\n",
    "           4 \\\\\n",
    "           3\n",
    "         \\end{bmatrix}\n",
    "         $\n",
    "is given by \n",
    "$$\\cos(\\theta) = \\frac{1\\cdot 3+2\\cdot 4+3\\cdot 3}{\\sqrt{1^2+2^2+3^2}\\cdot\\sqrt{3^2+4^2+3^2}} = \\frac{20}{\\sqrt{14\\cdot 34}}.$$\n",
    "\n",
    "Using numpy, we can find $\\theta$ using the arc cosine function (inverse cosine). Note that the angle is given in radians."
   ]
  },
  {
   "cell_type": "code",
   "execution_count": null,
   "metadata": {},
   "outputs": [],
   "source": [
    "costheta=np.dot(x,y)/(LA.norm(x,2)*LA.norm(y,2))\n",
    "np.arccos(costheta)"
   ]
  },
  {
   "cell_type": "markdown",
   "metadata": {},
   "source": [
    "## Matrix multiplication\n",
    "Matrix multiplication of an $n\\times p$ matrix $A$ and an $p\\times m$ matrix $B$ yields\n",
    "an $n \\times m$ matrix $C$, where each element $C[i, j]$ is the dot product of the i-th row of $A$ and the j-th\n",
    "column of $B$.\n",
    "\n",
    "__Note:__ there exists a Numpy.matrix class. However, it is not recommended to use this class. The official documentation states that the matrix class may be removed in the future.\n",
    "\n",
    "For example: \n",
    "\n",
    "$\\begin{bmatrix}\n",
    "           1\\quad  2 \\\\\n",
    "           2\\quad  1\n",
    "         \\end{bmatrix}\n",
    "         \\begin{bmatrix}\n",
    "           0\\quad  4 \\\\\n",
    "           3\\quad  1\n",
    "         \\end{bmatrix}=\n",
    "         \\begin{bmatrix}\n",
    "           6\\quad  6 \\\\\n",
    "           3\\quad  9\n",
    "         \\end{bmatrix}$\n",
    "\n",
    "In Numpy:"
   ]
  },
  {
   "cell_type": "code",
   "execution_count": null,
   "metadata": {},
   "outputs": [],
   "source": [
    "A=np.array([[1,2],[2,1]])\n",
    "B=np.array([[0,4],[3,1]])\n",
    "np.matmul(A,B) # matrix multiplication"
   ]
  },
  {
   "cell_type": "markdown",
   "metadata": {},
   "source": [
    "Several alternative syntax that will get us the same result:"
   ]
  },
  {
   "cell_type": "code",
   "execution_count": null,
   "metadata": {},
   "outputs": [],
   "source": [
    "A.dot(B)"
   ]
  },
  {
   "cell_type": "code",
   "execution_count": null,
   "metadata": {},
   "outputs": [],
   "source": [
    "A@B # this is the most conveniet syntax"
   ]
  },
  {
   "cell_type": "markdown",
   "metadata": {},
   "source": [
    "__Note:__ Matrix multiplication is very different from the element-wise multiplication (Hadamard product)."
   ]
  },
  {
   "cell_type": "code",
   "execution_count": null,
   "metadata": {
    "scrolled": true
   },
   "outputs": [],
   "source": [
    "A=np.array([[1,2],[2,1]])\n",
    "B=np.array([[0,4],[3,1]])\n",
    "print(A*B) # element-wise multiplication"
   ]
  }
 ],
 "metadata": {
  "kernelspec": {
   "display_name": "Python 3 (ipykernel)",
   "language": "python",
   "name": "python3"
  },
  "language_info": {
   "codemirror_mode": {
    "name": "ipython",
    "version": 3
   },
   "file_extension": ".py",
   "mimetype": "text/x-python",
   "name": "python",
   "nbconvert_exporter": "python",
   "pygments_lexer": "ipython3",
   "version": "3.9.7"
  }
 },
 "nbformat": 4,
 "nbformat_minor": 2
}
