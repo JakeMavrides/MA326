{
  "nbformat": 4,
  "nbformat_minor": 0,
  "metadata": {
    "colab": {
      "provenance": []
    },
    "kernelspec": {
      "name": "python3",
      "display_name": "Python 3"
    },
    "language_info": {
      "name": "python"
    }
  },
  "cells": [
    {
      "cell_type": "code",
      "source": [
        "# k-Means demo\n",
        "import numpy as np\n",
        "import matplotlib.pyplot as plt"
      ],
      "metadata": {
        "id": "nePIV4Ik_IVv"
      },
      "execution_count": null,
      "outputs": []
    },
    {
      "cell_type": "code",
      "source": [
        "# n = 1000 # random data\n",
        "\n",
        "m = 2\n",
        "\n",
        "# Set the number of clusters (k)\n",
        "k = 5\n",
        "\n",
        "XData = np.load(\"blobs.npy\")\n",
        "n = len(XData) # is 500 for blobs.npy\n",
        "\n",
        "num_realizations = 10"
      ],
      "metadata": {
        "id": "Ql2Uie8D_KpG"
      },
      "execution_count": null,
      "outputs": []
    },
    {
      "cell_type": "markdown",
      "source": [
        "Question 1 part c:\n"
      ],
      "metadata": {
        "id": "udpJi8YPTuVQ"
      }
    },
    {
      "cell_type": "code",
      "source": [
        "# Random initialization\n",
        "def rand_init(X, k):\n",
        "  c = np.vstack([np.random.uniform(-1,1,k), np.random.uniform(-1,1,k)]).T #np.zeros(shape=(k, m))\n",
        "  return c\n",
        "\n",
        "# k++ initialization\n",
        "def k_plus(X, k):\n",
        "  c = np.vstack([np.random.uniform(-1,1,k), np.random.uniform(-1,1,k)]).T\n",
        "  c[0] = XData[np.random.choice(n)]\n",
        "\n",
        "  for i in range(1, k):\n",
        "    # Find distance between each data point and its nearest rep vector\n",
        "    nearest_dist = np.array([min(np.linalg.norm((c[j] - xD), ord=2) for j in range(i)) for xD in XData])\n",
        "\n",
        "    # Pick next rep vec as the point with the highest dist\n",
        "    next_rep_index = np.argmax(nearest_dist)\n",
        "    c[i] = XData[next_rep_index]\n",
        "  return c\n",
        "\n",
        "# Function calculates coherence\n",
        "def coherence(X, centroids, labels):\n",
        "  coherence = 0\n",
        "  for i, centroid in enumerate(centroids):\n",
        "    indices = np.where(labels == i)[0]\n",
        "    coherence += np.sum(np.linalg.norm((X[indices] - centroid), axis=1, ord=2))\n",
        "  return coherence"
      ],
      "metadata": {
        "id": "oToErNbWSG87"
      },
      "execution_count": null,
      "outputs": []
    },
    {
      "cell_type": "code",
      "source": [
        "random_coherence = [] # coherence of random init per trial\n",
        "k_plus_coherence = [] # coherence of k++ init per trial\n",
        "\n",
        "for _ in range(num_realizations): # Loops 10x in our case\n",
        "\n",
        "    # Random init:\n",
        "    random_centroids = rand_init(XData, k)\n",
        "    closestCluster = np.zeros(len(XData))\n",
        "    for d in range(len(XData)):\n",
        "        xD = XData[d, :]\n",
        "        sqDistMin = 1e16\n",
        "        for i in range(k):\n",
        "            sqDist = np.linalg.norm(random_centroids[i, :] - xD, ord=2)\n",
        "            if sqDist < sqDistMin:\n",
        "                closestCluster[d] = i\n",
        "                sqDistMin = sqDist\n",
        "    IndexSet = closestCluster.astype(int) # our 'labels' param to be passed\n",
        "    random_coherence.append(coherence(XData, random_centroids, IndexSet))\n",
        "\n",
        "    # k++ init\n",
        "    k_plus_centroids = k_plus(XData, k)\n",
        "    closestCluster = np.zeros(len(XData))\n",
        "    for d in range(len(XData)):\n",
        "        xD = XData[d, :]\n",
        "        sqDistMin = 1e16\n",
        "        for i in range(k):\n",
        "            sqDist = np.linalg.norm(k_plus_centroids[i, :] - xD, ord=2)\n",
        "            if sqDist < sqDistMin:\n",
        "                closestCluster[d] = i\n",
        "                sqDistMin = sqDist\n",
        "    IndexSet = closestCluster.astype(int) # labels param\n",
        "    k_plus_coherence.append(coherence(XData, k_plus_centroids, IndexSet))\n"
      ],
      "metadata": {
        "id": "oqJbbggnn4rR"
      },
      "execution_count": null,
      "outputs": []
    },
    {
      "cell_type": "code",
      "source": [
        "# Plots\n",
        "plt.figure(figsize=(8, 6))\n",
        "plt.boxplot([random_coherence, k_plus_coherence], labels=['Random init', 'k++ init'])\n",
        "plt.ylabel('Overall Coherence')\n",
        "plt.show()"
      ],
      "metadata": {
        "colab": {
          "base_uri": "https://localhost:8080/",
          "height": 522
        },
        "id": "ZcWSr_JIp2fS",
        "outputId": "280902d3-c2ad-4627-c4d5-f7ef3fb5dec2"
      },
      "execution_count": null,
      "outputs": [
        {
          "output_type": "display_data",
          "data": {
            "text/plain": [
              "<Figure size 800x600 with 1 Axes>"
            ],
            "image/png": "[encoded data removed]"
          },
          "metadata": {}
        }
      ]
    },
    {
      "cell_type": "code",
      "source": [
        "random_avg_coherence = np.mean(random_coherence)\n",
        "k_plus_avg_coherence = np.mean(k_plus_coherence)\n",
        "print(\"random init average coherence: \", random_avg_coherence)\n",
        "print(\"k++ init average coherence: \", k_plus_avg_coherence)"
      ],
      "metadata": {
        "colab": {
          "base_uri": "https://localhost:8080/"
        },
        "id": "cqtd0MUHqNot",
        "outputId": "3bd1e330-e54f-4d8e-9ba5-621ca08abfc4"
      },
      "execution_count": null,
      "outputs": [
        {
          "output_type": "stream",
          "name": "stdout",
          "text": [
            "random init average coherence:  3279.542290246182\n",
            "k++ init average coherence:  1039.5696601560392\n"
          ]
        }
      ]
    },
    {
      "cell_type": "markdown",
      "source": [
        "Of course, k++ initialization had a much lower coherence level, which makes sense, because the nodes are initialized to lie on an exact data point, while being spread out from one another. However, the downside is the runtime of the initialization itself. At least in my implementation, a triple nested for loop was used, which is very inefficient."
      ],
      "metadata": {
        "id": "EX9FWGqGrQFe"
      }
    }
  ]
}