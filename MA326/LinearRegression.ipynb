{
 "cells": [
  {
   "cell_type": "markdown",
   "id": "1f9b16da",
   "metadata": {},
   "source": [
    "# Linear regression\n",
    "\n",
    "- Solving linear equations\n",
    "- Linear regression\n",
    "\n",
    "References:\n",
    "- https://numpy.org/doc/stable/reference/routines.linalg.html"
   ]
  },
  {
   "cell_type": "code",
   "execution_count": 2,
   "id": "ae2b1848",
   "metadata": {},
   "outputs": [],
   "source": [
    "# We will use NumPy and matplotlib for this lecture\n",
    "import numpy as np\n",
    "from numpy import linalg as LA\n",
    "import matplotlib.pyplot as plt\n",
    "np.random.seed(1234) # set the random seed to make the random numbers predictable"
   ]
  },
  {
   "cell_type": "markdown",
   "id": "3369020a",
   "metadata": {},
   "source": [
    "## Solving Linear Equations\n",
    "\n",
    "One of the most fundamental tasks in applied mathematics is solving linear systems of the form \n",
    "\n",
    "$$\\mathbf{A}\\mathbf{x} = \\mathbf{b}\\;,$$\n",
    "\n",
    "where $\\mathbf{A} \\in \\mathbb{R}^{n \\times m}$, $\\mathbf{x} \\in \\mathbb{R}^{m}$, and $\\mathbf{b} \\in \\mathbb{R}^{n}$. This equation represents a set of linear relationships between variables, a single one of which looks like this: \n",
    "\n",
    "$$\n",
    "a_{i1}x_1 + a_{i2}x_2 + \\cdots + a_{im}x_m = b_i\\;.\n",
    "$$\n",
    "\n",
    "Collectively, the equations in a linear system define a \"flat space\" called a *linear subspace* of $\\mathbb{R}^m$.  \n",
    "\n",
    "1. When $\\mathbf{A}$ is square and of full rank (determinant nonzero), this equation has a unique solution. \n",
    "2. When $\\mathbf{A}$ is not square or not of full rank, then this equation may have either 0 or infinitely many solutions. \n",
    "\n",
    "In Case 1 (\"the good case\"), we can use a simple built-in `numpy` method: `np.linalg.solve`. "
   ]
  },
  {
   "cell_type": "code",
   "execution_count": 3,
   "id": "21d1bafb",
   "metadata": {},
   "outputs": [],
   "source": [
    "# solve A@x = b for x => x = inv(A)*b\n",
    "\n",
    "n = 5\n",
    "\n",
    "A = np.random.randint(1, 5, size = (n, n))\n",
    "b = np.random.randint(1, 5, size = n)\n",
    "\n",
    "# x = LA.solve(A, b)\n",
    "# x"
   ]
  },
  {
   "cell_type": "code",
   "execution_count": 5,
   "id": "0b5a7e08",
   "metadata": {},
   "outputs": [
    {
     "data": {
      "text/plain": [
       "array([1, 2, 4, 3, 3])"
      ]
     },
     "execution_count": 5,
     "metadata": {},
     "output_type": "execute_result"
    }
   ],
   "source": [
    "b"
   ]
  },
  {
   "cell_type": "code",
   "execution_count": 6,
   "id": "512f3b86",
   "metadata": {},
   "outputs": [
    {
     "data": {
      "text/plain": [
       "array([ 1.95, -2.75,  1.4 ,  0.5 , -1.  ])"
      ]
     },
     "execution_count": 6,
     "metadata": {},
     "output_type": "execute_result"
    }
   ],
   "source": [
    "x = LA.solve(A, b)\n",
    "x"
   ]
  },
  {
   "cell_type": "code",
   "execution_count": null,
   "id": "c6622910",
   "metadata": {},
   "outputs": [],
   "source": [
    "print(A)\n",
    "print(b)"
   ]
  },
  {
   "cell_type": "code",
   "execution_count": 7,
   "id": "e0bf83c1",
   "metadata": {},
   "outputs": [
    {
     "data": {
      "text/plain": [
       "True"
      ]
     },
     "execution_count": 7,
     "metadata": {},
     "output_type": "execute_result"
    }
   ],
   "source": [
    "np.allclose(A @ x, b)"
   ]
  },
  {
   "cell_type": "code",
   "execution_count": 8,
   "id": "f807c14b",
   "metadata": {},
   "outputs": [
    {
     "name": "stdout",
     "output_type": "stream",
     "text": [
      "[0. 0. 0. 0. 0.]\n"
     ]
    }
   ],
   "source": [
    "print(A@x - b)"
   ]
  },
  {
   "cell_type": "code",
   "execution_count": 9,
   "id": "f82026cb",
   "metadata": {},
   "outputs": [
    {
     "data": {
      "text/plain": [
       "True"
      ]
     },
     "execution_count": 9,
     "metadata": {},
     "output_type": "execute_result"
    }
   ],
   "source": [
    "# manual approach (not as efficient)\n",
    "# compute the inverse explicitly and \n",
    "# premultiply by it\n",
    "# It is usually not a good idea to use inv(A) directly.\n",
    "\n",
    "x_ = LA.inv(A) @ b\n",
    "np.allclose(x_, x)"
   ]
  },
  {
   "cell_type": "markdown",
   "id": "22d117eb",
   "metadata": {},
   "source": [
    "In Case 2 (\"the bad case\"), in which the matrix is either not of full rank or not square, we need to resort to subtler means. Suppose that the matrix $\\mathbf{A}$ has more rows than columns: "
   ]
  },
  {
   "cell_type": "code",
   "execution_count": 10,
   "id": "4d363c4c",
   "metadata": {},
   "outputs": [
    {
     "data": {
      "text/plain": [
       "array([[4, 3, 1, 4],\n",
       "       [1, 2, 3, 3],\n",
       "       [3, 4, 4, 4],\n",
       "       [1, 2, 4, 1],\n",
       "       [4, 3, 4, 1]])"
      ]
     },
     "execution_count": 10,
     "metadata": {},
     "output_type": "execute_result"
    }
   ],
   "source": [
    "A = np.random.randint(1, 5, size = (n, n-1))\n",
    "A"
   ]
  },
  {
   "cell_type": "markdown",
   "id": "b347f143",
   "metadata": {},
   "source": [
    "In this case, there usually are no exact solutions to the equation $\\mathbf{A}\\mathbf{x} = \\mathbf{b}$. If we try the method from before, `numpy` will complain at us: "
   ]
  },
  {
   "cell_type": "code",
   "execution_count": 11,
   "id": "a891464b",
   "metadata": {},
   "outputs": [
    {
     "ename": "LinAlgError",
     "evalue": "Last 2 dimensions of the array must be square",
     "output_type": "error",
     "traceback": [
      "\u001b[0;31m---------------------------------------------------------------------------\u001b[0m",
      "\u001b[0;31mLinAlgError\u001b[0m                               Traceback (most recent call last)",
      "\u001b[0;32m/var/folders/w5/8brsvp85619f0gy7494txpwc0000gq/T/ipykernel_28458/1745813088.py\u001b[0m in \u001b[0;36m<module>\u001b[0;34m\u001b[0m\n\u001b[1;32m      1\u001b[0m \u001b[0;31m# this will not work\u001b[0m\u001b[0;34m\u001b[0m\u001b[0;34m\u001b[0m\u001b[0m\n\u001b[0;32m----> 2\u001b[0;31m \u001b[0mx\u001b[0m \u001b[0;34m=\u001b[0m \u001b[0mLA\u001b[0m\u001b[0;34m.\u001b[0m\u001b[0msolve\u001b[0m\u001b[0;34m(\u001b[0m\u001b[0mA\u001b[0m\u001b[0;34m,\u001b[0m \u001b[0mb\u001b[0m\u001b[0;34m)\u001b[0m\u001b[0;34m\u001b[0m\u001b[0;34m\u001b[0m\u001b[0m\n\u001b[0m",
      "\u001b[0;32m<__array_function__ internals>\u001b[0m in \u001b[0;36msolve\u001b[0;34m(*args, **kwargs)\u001b[0m\n",
      "\u001b[0;32m/Applications/Anaconda3/lib/python3.9/site-packages/numpy/linalg/linalg.py\u001b[0m in \u001b[0;36msolve\u001b[0;34m(a, b)\u001b[0m\n\u001b[1;32m    378\u001b[0m     \u001b[0ma\u001b[0m\u001b[0;34m,\u001b[0m \u001b[0m_\u001b[0m \u001b[0;34m=\u001b[0m \u001b[0m_makearray\u001b[0m\u001b[0;34m(\u001b[0m\u001b[0ma\u001b[0m\u001b[0;34m)\u001b[0m\u001b[0;34m\u001b[0m\u001b[0;34m\u001b[0m\u001b[0m\n\u001b[1;32m    379\u001b[0m     \u001b[0m_assert_stacked_2d\u001b[0m\u001b[0;34m(\u001b[0m\u001b[0ma\u001b[0m\u001b[0;34m)\u001b[0m\u001b[0;34m\u001b[0m\u001b[0;34m\u001b[0m\u001b[0m\n\u001b[0;32m--> 380\u001b[0;31m     \u001b[0m_assert_stacked_square\u001b[0m\u001b[0;34m(\u001b[0m\u001b[0ma\u001b[0m\u001b[0;34m)\u001b[0m\u001b[0;34m\u001b[0m\u001b[0;34m\u001b[0m\u001b[0m\n\u001b[0m\u001b[1;32m    381\u001b[0m     \u001b[0mb\u001b[0m\u001b[0;34m,\u001b[0m \u001b[0mwrap\u001b[0m \u001b[0;34m=\u001b[0m \u001b[0m_makearray\u001b[0m\u001b[0;34m(\u001b[0m\u001b[0mb\u001b[0m\u001b[0;34m)\u001b[0m\u001b[0;34m\u001b[0m\u001b[0;34m\u001b[0m\u001b[0m\n\u001b[1;32m    382\u001b[0m     \u001b[0mt\u001b[0m\u001b[0;34m,\u001b[0m \u001b[0mresult_t\u001b[0m \u001b[0;34m=\u001b[0m \u001b[0m_commonType\u001b[0m\u001b[0;34m(\u001b[0m\u001b[0ma\u001b[0m\u001b[0;34m,\u001b[0m \u001b[0mb\u001b[0m\u001b[0;34m)\u001b[0m\u001b[0;34m\u001b[0m\u001b[0;34m\u001b[0m\u001b[0m\n",
      "\u001b[0;32m/Applications/Anaconda3/lib/python3.9/site-packages/numpy/linalg/linalg.py\u001b[0m in \u001b[0;36m_assert_stacked_square\u001b[0;34m(*arrays)\u001b[0m\n\u001b[1;32m    201\u001b[0m         \u001b[0mm\u001b[0m\u001b[0;34m,\u001b[0m \u001b[0mn\u001b[0m \u001b[0;34m=\u001b[0m \u001b[0ma\u001b[0m\u001b[0;34m.\u001b[0m\u001b[0mshape\u001b[0m\u001b[0;34m[\u001b[0m\u001b[0;34m-\u001b[0m\u001b[0;36m2\u001b[0m\u001b[0;34m:\u001b[0m\u001b[0;34m]\u001b[0m\u001b[0;34m\u001b[0m\u001b[0;34m\u001b[0m\u001b[0m\n\u001b[1;32m    202\u001b[0m         \u001b[0;32mif\u001b[0m \u001b[0mm\u001b[0m \u001b[0;34m!=\u001b[0m \u001b[0mn\u001b[0m\u001b[0;34m:\u001b[0m\u001b[0;34m\u001b[0m\u001b[0;34m\u001b[0m\u001b[0m\n\u001b[0;32m--> 203\u001b[0;31m             \u001b[0;32mraise\u001b[0m \u001b[0mLinAlgError\u001b[0m\u001b[0;34m(\u001b[0m\u001b[0;34m'Last 2 dimensions of the array must be square'\u001b[0m\u001b[0;34m)\u001b[0m\u001b[0;34m\u001b[0m\u001b[0;34m\u001b[0m\u001b[0m\n\u001b[0m\u001b[1;32m    204\u001b[0m \u001b[0;34m\u001b[0m\u001b[0m\n\u001b[1;32m    205\u001b[0m \u001b[0;32mdef\u001b[0m \u001b[0m_assert_finite\u001b[0m\u001b[0;34m(\u001b[0m\u001b[0;34m*\u001b[0m\u001b[0marrays\u001b[0m\u001b[0;34m)\u001b[0m\u001b[0;34m:\u001b[0m\u001b[0;34m\u001b[0m\u001b[0;34m\u001b[0m\u001b[0m\n",
      "\u001b[0;31mLinAlgError\u001b[0m: Last 2 dimensions of the array must be square"
     ]
    }
   ],
   "source": [
    "# this will not work\n",
    "x = LA.solve(A, b) "
   ]
  },
  {
   "cell_type": "markdown",
   "id": "7a089705",
   "metadata": {},
   "source": [
    "One of the most common ways to approach this kind of problem is to compute the *least-squares approximation*, which is the minimizer $\\mathbf{x}$ of the function \n",
    "\n",
    "$$f(\\mathbf{x}) = \\lVert \\mathbf{A}\\mathbf{x} - \\mathbf{b} \\rVert^2\\; = \\sum_i \\left(b_i - \\sum_j a_{ij} x_{j}\\right)^2.$$\n",
    "\n",
    "Note that, if $\\mathbf{b} \\in \\text{range}(\\mathbf{A})$; that is, if $\\mathbf{b}$ is one of those lucky values such that $\\mathbf{A}\\mathbf{x} = \\mathbf{b}$ does indeed have an exact solution, then we can choose $\\mathbf{x}$ such that $f(\\mathbf{x}) = 0$ by finding the exact solution. \n",
    "\n",
    "Otherwise, we need to satisfy ourself with an approximation, i.e. a value $\\mathbf{x}$ such that $f(\\mathbf{x}) > 0$. "
   ]
  },
  {
   "cell_type": "code",
   "execution_count": 12,
   "id": "69f662c9",
   "metadata": {},
   "outputs": [
    {
     "name": "stdout",
     "output_type": "stream",
     "text": [
      "(5, 4)\n",
      "(5,)\n"
     ]
    }
   ],
   "source": [
    "print(A.shape)\n",
    "print(b.shape)"
   ]
  },
  {
   "cell_type": "code",
   "execution_count": 13,
   "id": "897c369e",
   "metadata": {},
   "outputs": [],
   "source": [
    "# compute the solution x, error f(x), rank of A, and singular values of A\n",
    "x, fx, rank, s = np.linalg.lstsq(A, b, rcond = None)"
   ]
  },
  {
   "cell_type": "code",
   "execution_count": 14,
   "id": "a6463f76",
   "metadata": {},
   "outputs": [
    {
     "data": {
      "text/plain": [
       "array([-0.64925373,  1.82089552,  0.14676617, -0.49004975])"
      ]
     },
     "execution_count": 14,
     "metadata": {},
     "output_type": "execute_result"
    }
   ],
   "source": [
    "# approximate solution\n",
    "x "
   ]
  },
  {
   "cell_type": "code",
   "execution_count": 15,
   "id": "12e9feb3",
   "metadata": {},
   "outputs": [
    {
     "name": "stdout",
     "output_type": "stream",
     "text": [
      "[1.05223881 1.96268657 3.96268657 3.08955224 2.96268657]\n",
      "[1 2 4 3 3]\n"
     ]
    }
   ],
   "source": [
    "print(A @ x) # should be close to the below\n",
    "print(b)"
   ]
  },
  {
   "cell_type": "markdown",
   "id": "6a360faa",
   "metadata": {},
   "source": [
    "## Application: Linear Regression\n",
    "\n",
    "Actually, the problem of minimizing $f(\\mathbf{x}) = \\lVert \\mathbf{A}\\mathbf{x} - \\mathbf{b} \\rVert^2$ has a special name in statistics -- it's linear regression! Specifically, it's *orderinary least-squares multvariate linear regression*.  It's usually written like this: \n",
    "\n",
    "$$J(\\beta) = \\lVert \\mathbf{X}\\beta - \\mathbf{y} \\rVert^2\\;,$$\n",
    "\n",
    "where $\\mathbf{X}$ is the design matrix of observations of the dependent variables, and $\\mathbf{y}$ is the vector of observations of the dependent variable. $\\beta$ is the vector of coefficients, and it's the thing that we want to estimate. We do this by finding an estimate $\\hat{\\beta}$ that makes $J(\\hat{\\beta})$ small. \n",
    "\n",
    "This function $J$ is called the *square-error loss* for estimating $\\mathbf{y}$, and is probably the most important of all loss functions for regression tasks. \n",
    "\n",
    "Let's use least-squares approximation to perform 1d linear regression \"by hand\": "
   ]
  },
  {
   "cell_type": "code",
   "execution_count": 22,
   "id": "0fa42b8b",
   "metadata": {},
   "outputs": [
    {
     "data": {
      "text/plain": [
       "<matplotlib.collections.PathCollection at 0x7fc6b02aa1c0>"
      ]
     },
     "execution_count": 22,
     "metadata": {},
     "output_type": "execute_result"
    },
    {
     "data": {
      "image/png": "[encoded data removed]",
      "text/plain": [
       "<Figure size 432x288 with 1 Axes>"
      ]
     },
     "metadata": {
      "needs_background": "light"
     },
     "output_type": "display_data"
    }
   ],
   "source": [
    "# generate the data\n",
    "# y = beta*x \n",
    "n = 100\n",
    "x = np.random.rand(n)\n",
    "beta = 2\n",
    "y = beta*x + np.random.rand(n) - 0.5\n",
    "y_exact = beta*x\n",
    "plt.scatter(x, y)\n",
    "plt.scatter(x, y_exact)"
   ]
  },
  {
   "cell_type": "code",
   "execution_count": 23,
   "id": "3c16d336",
   "metadata": {},
   "outputs": [],
   "source": [
    "# formally, x needs to be 2d for this to work\n",
    "# so we give it an extra dimension using reshape\n",
    "x = x.reshape(n, 1)\n",
    "\n",
    "beta_estimate = np.linalg.lstsq(x, y, rcond = None)[0]"
   ]
  },
  {
   "cell_type": "code",
   "execution_count": 24,
   "id": "f80191df",
   "metadata": {},
   "outputs": [
    {
     "name": "stdout",
     "output_type": "stream",
     "text": [
      "[1.92849763]\n"
     ]
    }
   ],
   "source": [
    "print(beta_estimate)"
   ]
  },
  {
   "cell_type": "code",
   "execution_count": 25,
   "id": "9d7c2231",
   "metadata": {},
   "outputs": [
    {
     "data": {
      "text/plain": [
       "<matplotlib.legend.Legend at 0x7fc6b02c83a0>"
      ]
     },
     "execution_count": 25,
     "metadata": {},
     "output_type": "execute_result"
    },
    {
     "data": {
      "image/png": "[encoded data removed]",
      "text/plain": [
       "<Figure size 432x288 with 1 Axes>"
      ]
     },
     "metadata": {
      "needs_background": "light"
     },
     "output_type": "display_data"
    }
   ],
   "source": [
    "plt.scatter(x, y)\n",
    "plt.gca().plot(np.linspace(0, 1), beta_estimate*np.linspace(0, 1), color = \"red\", label = \"estimated relationship\")\n",
    "plt.gca().plot([0,1], [0,2], color = \"black\", label = \"true relationship\")\n",
    "plt.legend()"
   ]
  },
  {
   "cell_type": "markdown",
   "id": "d691d330",
   "metadata": {},
   "source": [
    "This works in any number of dimensions! \n",
    "\n",
    "In fact, this least-squares problem has an analytic solution in terms of matrix inverses as well, given by \n",
    "\n",
    "$$\n",
    "\\hat{\\beta} = (\\mathbf{X}^T\\mathbf{X})^{-1}\\mathbf{X}^T \\mathbf{y}\\;.\n",
    "$$\n",
    "\n",
    "This matrix computation is easy to implement in Python using tools from the previous section. Rather than creating a plot, let's show how we perform multidimensional regression and recover an estimate of the coefficient vector $\\beta$. "
   ]
  },
  {
   "cell_type": "code",
   "execution_count": 32,
   "id": "e843f089",
   "metadata": {},
   "outputs": [
    {
     "name": "stdout",
     "output_type": "stream",
     "text": [
      "beta=[1 2 3 4]\n",
      "(100, 4)\n",
      "(100,)\n"
     ]
    },
    {
     "data": {
      "text/plain": [
       "<matplotlib.collections.PathCollection at 0x7fc6a052fd90>"
      ]
     },
     "execution_count": 32,
     "metadata": {},
     "output_type": "execute_result"
    },
    {
     "data": {
      "image/png": "[encoded data removed]",
      "text/plain": [
       "<Figure size 432x288 with 1 Axes>"
      ]
     },
     "metadata": {
      "needs_background": "light"
     },
     "output_type": "display_data"
    }
   ],
   "source": [
    "# y = beta[0] + beta[1]*x0 + beta[2]*x1+ beta[3]*x2\n",
    "beta = np.arange(1,5) # generate [1,2,3,4]\n",
    "n = 100\n",
    "x = np.random.rand(n,3)\n",
    "X = np.hstack((np.ones((n,1)), x))\n",
    "\n",
    "y = X @ beta + np.random.rand(n) - 0.5\n",
    "\n",
    "yexact = X @ beta\n",
    "print(\"beta={}\".format(beta))\n",
    "print(X.shape)\n",
    "print(y.shape)\n",
    "plt.scatter(X[:,1], y)\n",
    "\n",
    "# plt.scatter(X[:,1], yexact)"
   ]
  },
  {
   "cell_type": "code",
   "execution_count": 33,
   "id": "b6943c25",
   "metadata": {},
   "outputs": [
    {
     "name": "stdout",
     "output_type": "stream",
     "text": [
      "[1.07535827 1.93549676 2.91003602 3.96875542]\n"
     ]
    }
   ],
   "source": [
    "# np.random.seed(1234)\n",
    "def least_squares(X, y):\n",
    "    # X is n x 4, X.T is 4 x N, \n",
    "    # X.T @ X is 4 x 4\n",
    "    # np.linalg.inv(X.T @ X) @ (X.T) is 4 x N\n",
    "    # the returned object is a numpy array of 4 elements\n",
    "#     return np.linalg.inv(X.T @ X) @ (X.T) @ y\n",
    "    return np.linalg.solve(X.T@X, X.T@y)\n",
    "\n",
    "# multidimensional data\n",
    "\n",
    "n = 100\n",
    "x = np.random.rand(n,3)\n",
    "X = np.hstack((np.ones((n,1)), x))\n",
    "\n",
    "# true value of beta is [1,2,3,4]\n",
    "beta = np.arange(1,5)\n",
    "y = X @ beta + np.random.rand(n) - 0.5\n",
    "\n",
    "yexact = X @ beta\n",
    "\n",
    "beta_hat = least_squares(X, y)\n",
    "beta, beta_hat\n",
    "\n",
    "beta_estimate = np.linalg.lstsq(X, y, rcond = None)[0]\n",
    "print(beta_estimate)"
   ]
  },
  {
   "cell_type": "markdown",
   "id": "dcef535e",
   "metadata": {},
   "source": [
    "The reason that `numpy` implements a specialized least-squares function like `lstsq` is that the analytic approach can be impractical to compute when the number of columns in `X` is large, as matrix inversion is a very slow operation. "
   ]
  }
 ],
 "metadata": {
  "kernelspec": {
   "display_name": "Python 3 (ipykernel)",
   "language": "python",
   "name": "python3"
  },
  "language_info": {
   "codemirror_mode": {
    "name": "ipython",
    "version": 3
   },
   "file_extension": ".py",
   "mimetype": "text/x-python",
   "name": "python",
   "nbconvert_exporter": "python",
   "pygments_lexer": "ipython3",
   "version": "3.9.7"
  }
 },
 "nbformat": 4,
 "nbformat_minor": 5
}
